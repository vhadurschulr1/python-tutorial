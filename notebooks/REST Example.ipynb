{
 "cells": [
  {
   "cell_type": "markdown",
   "id": "14d7f13d",
   "metadata": {},
   "source": [
    "[![Binder](https://mybinder.org/badge_logo.svg)](https://mybinder.org/v2/gh/vhadurschulr1/python-tutorial/HEAD?filepath=notebooks%2FREST%20Example.ipynb)"
   ]
  },
  {
   "cell_type": "code",
   "execution_count": null,
   "id": "b5c9cd9e",
   "metadata": {},
   "outputs": [],
   "source": [
    "!pip install requests\n",
    "import requests"
   ]
  },
  {
   "cell_type": "code",
   "execution_count": null,
   "id": "fdc4a16a",
   "metadata": {},
   "outputs": [],
   "source": [
    "res = requests.get(\"https://covid2019-api.herokuapp.com/v2/current/US\")"
   ]
  },
  {
   "cell_type": "code",
   "execution_count": null,
   "id": "5bc5b56b",
   "metadata": {},
   "outputs": [],
   "source": [
    "res.json()"
   ]
  },
  {
   "cell_type": "code",
   "execution_count": null,
   "id": "bc141f66",
   "metadata": {},
   "outputs": [],
   "source": [
    "!pip install pandas\n",
    "import pandas as pd"
   ]
  },
  {
   "cell_type": "code",
   "execution_count": null,
   "id": "d5fdc0ba",
   "metadata": {},
   "outputs": [],
   "source": [
    "df = pd.DataFrame(\n",
    "    [(o['Province_State'], o['Deaths']) for o in res.json()['data']],\n",
    "    columns=['Province_State','Deaths']\n",
    ")\n",
    "df.head()"
   ]
  },
  {
   "cell_type": "code",
   "execution_count": null,
   "id": "33afd354",
   "metadata": {},
   "outputs": [],
   "source": [
    "code = {'Alabama': 'AL',\n",
    "        'Alaska': 'AK',\n",
    "        'Arizona': 'AZ',\n",
    "        'Arkansas': 'AR',\n",
    "        'California': 'CA',\n",
    "        'Colorado': 'CO',\n",
    "        'Connecticut': 'CT',\n",
    "        'Delaware': 'DE',\n",
    "        'District of Columbia': 'DC',\n",
    "        'Florida': 'FL',\n",
    "        'Georgia': 'GA',\n",
    "        'Hawaii': 'HI',\n",
    "        'Idaho': 'ID',\n",
    "        'Illinois': 'IL',\n",
    "        'Indiana': 'IN',\n",
    "        'Iowa': 'IA',\n",
    "        'Kansas': 'KS',\n",
    "        'Kentucky': 'KY',\n",
    "        'Louisiana': 'LA',\n",
    "        'Maine': 'ME',\n",
    "        'Maryland': 'MD',\n",
    "        'Massachusetts': 'MA',\n",
    "        'Michigan': 'MI',\n",
    "        'Minnesota': 'MN',\n",
    "        'Mississippi': 'MS',\n",
    "        'Missouri': 'MO',\n",
    "        'Montana': 'MT',\n",
    "        'Nebraska': 'NE',\n",
    "        'Nevada': 'NV',\n",
    "        'New Hampshire': 'NH',\n",
    "        'New Jersey': 'NJ',\n",
    "        'New Mexico': 'NM',\n",
    "        'New York': 'NY',\n",
    "        'North Carolina': 'NC',\n",
    "        'North Dakota': 'ND',\n",
    "        'Ohio': 'OH',\n",
    "        'Oklahoma': 'OK',\n",
    "        'Oregon': 'OR',\n",
    "        'Pennsylvania': 'PA',\n",
    "        'Rhode Island': 'RI',\n",
    "        'South Carolina': 'SC',\n",
    "        'South Dakota': 'SD',\n",
    "        'Tennessee': 'TN',\n",
    "        'Texas': 'TX',\n",
    "        'Utah': 'UT',\n",
    "        'Vermont': 'VT',\n",
    "        'Virginia': 'VA',\n",
    "        'Washington': 'WA',\n",
    "        'West Virginia': 'WV',\n",
    "        'Wisconsin': 'WI',\n",
    "        'Wyoming': 'WY'}"
   ]
  },
  {
   "cell_type": "code",
   "execution_count": null,
   "id": "b6b10176",
   "metadata": {},
   "outputs": [],
   "source": [
    "df['State_Abb'] = df.Province_State.map(code)\n",
    "df.head()"
   ]
  },
  {
   "cell_type": "code",
   "execution_count": null,
   "id": "92d6128a",
   "metadata": {},
   "outputs": [],
   "source": [
    "df = df[~df['State_Abb'].isnull()]"
   ]
  },
  {
   "cell_type": "code",
   "execution_count": null,
   "id": "e60f632e",
   "metadata": {},
   "outputs": [],
   "source": [
    "!pip install plotly\n",
    "import plotly.express as px"
   ]
  },
  {
   "cell_type": "code",
   "execution_count": null,
   "id": "af60a569",
   "metadata": {},
   "outputs": [],
   "source": [
    "fig = px.choropleth(df, locations='State_Abb', color='Deaths', hover_name='Province_State', locationmode='USA-states', scope='usa')"
   ]
  },
  {
   "cell_type": "code",
   "execution_count": null,
   "id": "b62c7ce7",
   "metadata": {},
   "outputs": [],
   "source": [
    "fig.show()"
   ]
  },
  {
   "cell_type": "code",
   "execution_count": null,
   "id": "1fa799bf",
   "metadata": {},
   "outputs": [],
   "source": [
    "#fig.write_html(\"./img/covid-deaths-by-state.html\")\n",
    "#fig.write_image(\"./img/covid-deaths-by-state.png\")"
   ]
  },
  {
   "cell_type": "markdown",
   "id": "000b26a2",
   "metadata": {
    "heading_collapsed": true
   },
   "source": [
    "## Interactive Map\n",
    "\n",
    "[Click for interactive map](https://vhadurschulr1.github.io/python-tutorial/notebooks/img/covid-deaths-by-state.html)\n",
    "\n",
    "## Static Map\n",
    "\n",
    "![](https://vhadurschulr1.github.io/python-tutorial/notebooks/img/covid-deaths-by-state.png)"
   ]
  }
 ],
 "metadata": {
  "kernelspec": {
   "display_name": "Python 3",
   "language": "python",
   "name": "python3"
  },
  "language_info": {
   "codemirror_mode": {
    "name": "ipython",
    "version": 3
   },
   "file_extension": ".py",
   "mimetype": "text/x-python",
   "name": "python",
   "nbconvert_exporter": "python",
   "pygments_lexer": "ipython3",
   "version": "3.7.9"
  },
  "varInspector": {
   "cols": {
    "lenName": 16,
    "lenType": 16,
    "lenVar": 40
   },
   "kernels_config": {
    "python": {
     "delete_cmd_postfix": "",
     "delete_cmd_prefix": "del ",
     "library": "var_list.py",
     "varRefreshCmd": "print(var_dic_list())"
    },
    "r": {
     "delete_cmd_postfix": ") ",
     "delete_cmd_prefix": "rm(",
     "library": "var_list.r",
     "varRefreshCmd": "cat(var_dic_list()) "
    }
   },
   "types_to_exclude": [
    "module",
    "function",
    "builtin_function_or_method",
    "instance",
    "_Feature"
   ],
   "window_display": false
  }
 },
 "nbformat": 4,
 "nbformat_minor": 5
}
