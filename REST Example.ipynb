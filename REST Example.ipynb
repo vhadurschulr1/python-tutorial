{
 "cells": [
  {
   "cell_type": "code",
   "execution_count": 3,
   "id": "5d2f4397",
   "metadata": {},
   "outputs": [],
   "source": [
    "!pip install requests\n",
    "import requests"
   ]
  },
  {
   "cell_type": "code",
   "execution_count": 12,
   "id": "3fc69e0c",
   "metadata": {},
   "outputs": [],
   "source": [
    "res = requests.get(\"https://covid2019-api.herokuapp.com/v2/current/US\")"
   ]
  },
  {
   "cell_type": "code",
   "execution_count": 13,
   "id": "04f9279f",
   "metadata": {},
   "outputs": [
    {
     "data": {
      "text/plain": [
       "{'data': [{'Province_State': 'California',\n",
       "   'Confirmed': 5127121,\n",
       "   'Deaths': 74911,\n",
       "   'Recovered': 0,\n",
       "   'Active': 0},\n",
       "  {'Province_State': 'Texas',\n",
       "   'Confirmed': 4356275,\n",
       "   'Deaths': 74217,\n",
       "   'Recovered': 0,\n",
       "   'Active': 0},\n",
       "  {'Province_State': 'Florida',\n",
       "   'Confirmed': 3741058,\n",
       "   'Deaths': 61789,\n",
       "   'Recovered': 0,\n",
       "   'Active': 0},\n",
       "  {'Province_State': 'New York',\n",
       "   'Confirmed': 2788476,\n",
       "   'Deaths': 57816,\n",
       "   'Recovered': 0,\n",
       "   'Active': 0},\n",
       "  {'Province_State': 'Illinois',\n",
       "   'Confirmed': 1854186,\n",
       "   'Deaths': 29053,\n",
       "   'Recovered': 0,\n",
       "   'Active': 0},\n",
       "  {'Province_State': 'Pennsylvania',\n",
       "   'Confirmed': 1783118,\n",
       "   'Deaths': 33962,\n",
       "   'Recovered': 0,\n",
       "   'Active': 0},\n",
       "  {'Province_State': 'Ohio',\n",
       "   'Confirmed': 1735925,\n",
       "   'Deaths': 26851,\n",
       "   'Recovered': 0,\n",
       "   'Active': 0},\n",
       "  {'Province_State': 'Georgia',\n",
       "   'Confirmed': 1671787,\n",
       "   'Deaths': 30691,\n",
       "   'Recovered': 0,\n",
       "   'Active': 0},\n",
       "  {'Province_State': 'North Carolina',\n",
       "   'Confirmed': 1553112,\n",
       "   'Deaths': 18860,\n",
       "   'Recovered': 0,\n",
       "   'Active': 0},\n",
       "  {'Province_State': 'Michigan',\n",
       "   'Confirmed': 1535147,\n",
       "   'Deaths': 26239,\n",
       "   'Recovered': 0,\n",
       "   'Active': 0},\n",
       "  {'Province_State': 'Tennessee',\n",
       "   'Confirmed': 1327453,\n",
       "   'Deaths': 17477,\n",
       "   'Recovered': 0,\n",
       "   'Active': 0},\n",
       "  {'Province_State': 'Arizona',\n",
       "   'Confirmed': 1295076,\n",
       "   'Deaths': 22589,\n",
       "   'Recovered': 0,\n",
       "   'Active': 0},\n",
       "  {'Province_State': 'New Jersey',\n",
       "   'Confirmed': 1275717,\n",
       "   'Deaths': 28465,\n",
       "   'Recovered': 0,\n",
       "   'Active': 0},\n",
       "  {'Province_State': 'Indiana',\n",
       "   'Confirmed': 1130719,\n",
       "   'Deaths': 17736,\n",
       "   'Recovered': 0,\n",
       "   'Active': 0},\n",
       "  {'Province_State': 'Wisconsin',\n",
       "   'Confirmed': 997688,\n",
       "   'Deaths': 10134,\n",
       "   'Recovered': 0,\n",
       "   'Active': 0},\n",
       "  {'Province_State': 'Virginia',\n",
       "   'Confirmed': 983055,\n",
       "   'Deaths': 14771,\n",
       "   'Recovered': 0,\n",
       "   'Active': 0},\n",
       "  {'Province_State': 'Massachusetts',\n",
       "   'Confirmed': 947463,\n",
       "   'Deaths': 19516,\n",
       "   'Recovered': 0,\n",
       "   'Active': 0},\n",
       "  {'Province_State': 'Minnesota',\n",
       "   'Confirmed': 933025,\n",
       "   'Deaths': 9778,\n",
       "   'Recovered': 0,\n",
       "   'Active': 0},\n",
       "  {'Province_State': 'Missouri',\n",
       "   'Confirmed': 929647,\n",
       "   'Deaths': 15566,\n",
       "   'Recovered': 0,\n",
       "   'Active': 0},\n",
       "  {'Province_State': 'South Carolina',\n",
       "   'Confirmed': 924958,\n",
       "   'Deaths': 14314,\n",
       "   'Recovered': 0,\n",
       "   'Active': 0},\n",
       "  {'Province_State': 'Alabama',\n",
       "   'Confirmed': 848779,\n",
       "   'Deaths': 16185,\n",
       "   'Recovered': 0,\n",
       "   'Active': 0},\n",
       "  {'Province_State': 'Colorado',\n",
       "   'Confirmed': 843851,\n",
       "   'Deaths': 9380,\n",
       "   'Recovered': 0,\n",
       "   'Active': 0},\n",
       "  {'Province_State': 'Kentucky',\n",
       "   'Confirmed': 799695,\n",
       "   'Deaths': 11289,\n",
       "   'Recovered': 0,\n",
       "   'Active': 0},\n",
       "  {'Province_State': 'Washington',\n",
       "   'Confirmed': 784129,\n",
       "   'Deaths': 9436,\n",
       "   'Recovered': 0,\n",
       "   'Active': 0},\n",
       "  {'Province_State': 'Louisiana',\n",
       "   'Confirmed': 773621,\n",
       "   'Deaths': 14837,\n",
       "   'Recovered': 0,\n",
       "   'Active': 0},\n",
       "  {'Province_State': 'Oklahoma',\n",
       "   'Confirmed': 674758,\n",
       "   'Deaths': 12027,\n",
       "   'Recovered': 0,\n",
       "   'Active': 0},\n",
       "  {'Province_State': 'Utah',\n",
       "   'Confirmed': 605409,\n",
       "   'Deaths': 3595,\n",
       "   'Recovered': 0,\n",
       "   'Active': 0},\n",
       "  {'Province_State': 'Maryland',\n",
       "   'Confirmed': 592679,\n",
       "   'Deaths': 11255,\n",
       "   'Recovered': 0,\n",
       "   'Active': 0},\n",
       "  {'Province_State': 'Iowa',\n",
       "   'Confirmed': 534623,\n",
       "   'Deaths': 7445,\n",
       "   'Recovered': 0,\n",
       "   'Active': 0},\n",
       "  {'Province_State': 'Arkansas',\n",
       "   'Confirmed': 533658,\n",
       "   'Deaths': 8752,\n",
       "   'Recovered': 0,\n",
       "   'Active': 0},\n",
       "  {'Province_State': 'Mississippi',\n",
       "   'Confirmed': 516486,\n",
       "   'Deaths': 10299,\n",
       "   'Recovered': 0,\n",
       "   'Active': 0},\n",
       "  {'Province_State': 'Kansas',\n",
       "   'Confirmed': 478613,\n",
       "   'Deaths': 6747,\n",
       "   'Recovered': 0,\n",
       "   'Active': 0},\n",
       "  {'Province_State': 'Nevada',\n",
       "   'Confirmed': 461479,\n",
       "   'Deaths': 8109,\n",
       "   'Recovered': 0,\n",
       "   'Active': 0},\n",
       "  {'Province_State': 'Connecticut',\n",
       "   'Confirmed': 430756,\n",
       "   'Deaths': 8925,\n",
       "   'Recovered': 0,\n",
       "   'Active': 0},\n",
       "  {'Province_State': 'Oregon',\n",
       "   'Confirmed': 396501,\n",
       "   'Deaths': 5268,\n",
       "   'Recovered': 0,\n",
       "   'Active': 0},\n",
       "  {'Province_State': 'New Mexico',\n",
       "   'Confirmed': 324311,\n",
       "   'Deaths': 5419,\n",
       "   'Recovered': 0,\n",
       "   'Active': 0},\n",
       "  {'Province_State': 'Nebraska',\n",
       "   'Confirmed': 316013,\n",
       "   'Deaths': 3180,\n",
       "   'Recovered': 0,\n",
       "   'Active': 0},\n",
       "  {'Province_State': 'Idaho',\n",
       "   'Confirmed': 309314,\n",
       "   'Deaths': 3977,\n",
       "   'Recovered': 0,\n",
       "   'Active': 0},\n",
       "  {'Province_State': 'West Virginia',\n",
       "   'Confirmed': 301349,\n",
       "   'Deaths': 4990,\n",
       "   'Recovered': 0,\n",
       "   'Active': 0},\n",
       "  {'Province_State': 'Rhode Island',\n",
       "   'Confirmed': 196949,\n",
       "   'Deaths': 2948,\n",
       "   'Recovered': 0,\n",
       "   'Active': 0},\n",
       "  {'Province_State': 'Montana',\n",
       "   'Confirmed': 192590,\n",
       "   'Deaths': 2768,\n",
       "   'Recovered': 0,\n",
       "   'Active': 0},\n",
       "  {'Province_State': 'Puerto Rico',\n",
       "   'Confirmed': 189325,\n",
       "   'Deaths': 3273,\n",
       "   'Recovered': 0,\n",
       "   'Active': 0},\n",
       "  {'Province_State': 'South Dakota',\n",
       "   'Confirmed': 168763,\n",
       "   'Deaths': 2371,\n",
       "   'Recovered': 0,\n",
       "   'Active': 0},\n",
       "  {'Province_State': 'New Hampshire',\n",
       "   'Confirmed': 167612,\n",
       "   'Deaths': 1733,\n",
       "   'Recovered': 0,\n",
       "   'Active': 0},\n",
       "  {'Province_State': 'North Dakota',\n",
       "   'Confirmed': 164811,\n",
       "   'Deaths': 1954,\n",
       "   'Recovered': 0,\n",
       "   'Active': 0},\n",
       "  {'Province_State': 'Delaware',\n",
       "   'Confirmed': 156454,\n",
       "   'Deaths': 2194,\n",
       "   'Recovered': 0,\n",
       "   'Active': 0},\n",
       "  {'Province_State': 'Alaska',\n",
       "   'Confirmed': 152537,\n",
       "   'Deaths': 883,\n",
       "   'Recovered': 0,\n",
       "   'Active': 0},\n",
       "  {'Province_State': 'Maine',\n",
       "   'Confirmed': 123118,\n",
       "   'Deaths': 1336,\n",
       "   'Recovered': 0,\n",
       "   'Active': 0},\n",
       "  {'Province_State': 'Wyoming',\n",
       "   'Confirmed': 112199,\n",
       "   'Deaths': 1428,\n",
       "   'Recovered': 0,\n",
       "   'Active': 0},\n",
       "  {'Province_State': 'Hawaii',\n",
       "   'Confirmed': 88385,\n",
       "   'Deaths': 1033,\n",
       "   'Recovered': 0,\n",
       "   'Active': 0},\n",
       "  {'Province_State': 'District of Columbia',\n",
       "   'Confirmed': 67998,\n",
       "   'Deaths': 1197,\n",
       "   'Recovered': 0,\n",
       "   'Active': 0},\n",
       "  {'Province_State': 'Vermont',\n",
       "   'Confirmed': 53131,\n",
       "   'Deaths': 417,\n",
       "   'Recovered': 0,\n",
       "   'Active': 0},\n",
       "  {'Province_State': 'Guam',\n",
       "   'Confirmed': 19270,\n",
       "   'Deaths': 267,\n",
       "   'Recovered': 0,\n",
       "   'Active': 0},\n",
       "  {'Province_State': 'Virgin Islands',\n",
       "   'Confirmed': 7549,\n",
       "   'Deaths': 87,\n",
       "   'Recovered': 0,\n",
       "   'Active': 0},\n",
       "  {'Province_State': 'Northern Mariana Islands',\n",
       "   'Confirmed': 395,\n",
       "   'Deaths': 3,\n",
       "   'Recovered': 0,\n",
       "   'Active': 0},\n",
       "  {'Province_State': 'Grand Princess',\n",
       "   'Confirmed': 103,\n",
       "   'Deaths': 3,\n",
       "   'Recovered': 0,\n",
       "   'Active': 0},\n",
       "  {'Province_State': 'Diamond Princess',\n",
       "   'Confirmed': 49,\n",
       "   'Deaths': 0,\n",
       "   'Recovered': 0,\n",
       "   'Active': 0},\n",
       "  {'Province_State': 'American Samoa',\n",
       "   'Confirmed': 10,\n",
       "   'Deaths': 0,\n",
       "   'Recovered': 0,\n",
       "   'Active': 0}],\n",
       " 'dt': '12-07-2021',\n",
       " 'ts': 1638835200}"
      ]
     },
     "execution_count": 13,
     "metadata": {},
     "output_type": "execute_result"
    }
   ],
   "source": [
    "res.json()"
   ]
  },
  {
   "cell_type": "code",
   "execution_count": 38,
   "id": "36354454",
   "metadata": {},
   "outputs": [
    {
     "name": "stdout",
     "output_type": "stream",
     "text": [
      "Requirement already satisfied: pandas in c:\\python\\lib\\site-packages (1.2.4)\n",
      "Requirement already satisfied: pytz>=2017.3 in c:\\python\\lib\\site-packages (from pandas) (2021.1)\n",
      "Requirement already satisfied: numpy>=1.16.5 in c:\\python\\lib\\site-packages (from pandas) (1.20.3)\n",
      "Requirement already satisfied: python-dateutil>=2.7.3 in c:\\python\\lib\\site-packages (from pandas) (2.8.1)\n",
      "Requirement already satisfied: six>=1.5 in c:\\python\\lib\\site-packages (from python-dateutil>=2.7.3->pandas) (1.16.0)\n"
     ]
    }
   ],
   "source": [
    "!pip install pandas\n",
    "import pandas as pd"
   ]
  },
  {
   "cell_type": "code",
   "execution_count": 39,
   "id": "5b9886c9",
   "metadata": {},
   "outputs": [
    {
     "data": {
      "text/html": [
       "<div>\n",
       "<style scoped>\n",
       "    .dataframe tbody tr th:only-of-type {\n",
       "        vertical-align: middle;\n",
       "    }\n",
       "\n",
       "    .dataframe tbody tr th {\n",
       "        vertical-align: top;\n",
       "    }\n",
       "\n",
       "    .dataframe thead th {\n",
       "        text-align: right;\n",
       "    }\n",
       "</style>\n",
       "<table border=\"1\" class=\"dataframe\">\n",
       "  <thead>\n",
       "    <tr style=\"text-align: right;\">\n",
       "      <th></th>\n",
       "      <th>Province_State</th>\n",
       "      <th>Deaths</th>\n",
       "    </tr>\n",
       "  </thead>\n",
       "  <tbody>\n",
       "    <tr>\n",
       "      <th>0</th>\n",
       "      <td>California</td>\n",
       "      <td>74911</td>\n",
       "    </tr>\n",
       "    <tr>\n",
       "      <th>1</th>\n",
       "      <td>Texas</td>\n",
       "      <td>74217</td>\n",
       "    </tr>\n",
       "    <tr>\n",
       "      <th>2</th>\n",
       "      <td>Florida</td>\n",
       "      <td>61789</td>\n",
       "    </tr>\n",
       "    <tr>\n",
       "      <th>3</th>\n",
       "      <td>New York</td>\n",
       "      <td>57816</td>\n",
       "    </tr>\n",
       "    <tr>\n",
       "      <th>4</th>\n",
       "      <td>Illinois</td>\n",
       "      <td>29053</td>\n",
       "    </tr>\n",
       "  </tbody>\n",
       "</table>\n",
       "</div>"
      ],
      "text/plain": [
       "  Province_State  Deaths\n",
       "0     California   74911\n",
       "1          Texas   74217\n",
       "2        Florida   61789\n",
       "3       New York   57816\n",
       "4       Illinois   29053"
      ]
     },
     "execution_count": 39,
     "metadata": {},
     "output_type": "execute_result"
    }
   ],
   "source": [
    "df = pd.DataFrame(\n",
    "    [(o['Province_State'], o['Deaths']) for o in res.json()['data']],\n",
    "    columns=['Province_State','Deaths']\n",
    ")\n",
    "df.head()"
   ]
  },
  {
   "cell_type": "code",
   "execution_count": 40,
   "id": "90e7ad0b",
   "metadata": {},
   "outputs": [],
   "source": [
    "code = {'Alabama': 'AL',\n",
    "        'Alaska': 'AK',\n",
    "        'Arizona': 'AZ',\n",
    "        'Arkansas': 'AR',\n",
    "        'California': 'CA',\n",
    "        'Colorado': 'CO',\n",
    "        'Connecticut': 'CT',\n",
    "        'Delaware': 'DE',\n",
    "        'District of Columbia': 'DC',\n",
    "        'Florida': 'FL',\n",
    "        'Georgia': 'GA',\n",
    "        'Hawaii': 'HI',\n",
    "        'Idaho': 'ID',\n",
    "        'Illinois': 'IL',\n",
    "        'Indiana': 'IN',\n",
    "        'Iowa': 'IA',\n",
    "        'Kansas': 'KS',\n",
    "        'Kentucky': 'KY',\n",
    "        'Louisiana': 'LA',\n",
    "        'Maine': 'ME',\n",
    "        'Maryland': 'MD',\n",
    "        'Massachusetts': 'MA',\n",
    "        'Michigan': 'MI',\n",
    "        'Minnesota': 'MN',\n",
    "        'Mississippi': 'MS',\n",
    "        'Missouri': 'MO',\n",
    "        'Montana': 'MT',\n",
    "        'Nebraska': 'NE',\n",
    "        'Nevada': 'NV',\n",
    "        'New Hampshire': 'NH',\n",
    "        'New Jersey': 'NJ',\n",
    "        'New Mexico': 'NM',\n",
    "        'New York': 'NY',\n",
    "        'North Carolina': 'NC',\n",
    "        'North Dakota': 'ND',\n",
    "        'Ohio': 'OH',\n",
    "        'Oklahoma': 'OK',\n",
    "        'Oregon': 'OR',\n",
    "        'Pennsylvania': 'PA',\n",
    "        'Rhode Island': 'RI',\n",
    "        'South Carolina': 'SC',\n",
    "        'South Dakota': 'SD',\n",
    "        'Tennessee': 'TN',\n",
    "        'Texas': 'TX',\n",
    "        'Utah': 'UT',\n",
    "        'Vermont': 'VT',\n",
    "        'Virginia': 'VA',\n",
    "        'Washington': 'WA',\n",
    "        'West Virginia': 'WV',\n",
    "        'Wisconsin': 'WI',\n",
    "        'Wyoming': 'WY'}"
   ]
  },
  {
   "cell_type": "code",
   "execution_count": 41,
   "id": "2a38194c",
   "metadata": {},
   "outputs": [
    {
     "data": {
      "text/html": [
       "<div>\n",
       "<style scoped>\n",
       "    .dataframe tbody tr th:only-of-type {\n",
       "        vertical-align: middle;\n",
       "    }\n",
       "\n",
       "    .dataframe tbody tr th {\n",
       "        vertical-align: top;\n",
       "    }\n",
       "\n",
       "    .dataframe thead th {\n",
       "        text-align: right;\n",
       "    }\n",
       "</style>\n",
       "<table border=\"1\" class=\"dataframe\">\n",
       "  <thead>\n",
       "    <tr style=\"text-align: right;\">\n",
       "      <th></th>\n",
       "      <th>Province_State</th>\n",
       "      <th>Deaths</th>\n",
       "      <th>State_Abb</th>\n",
       "    </tr>\n",
       "  </thead>\n",
       "  <tbody>\n",
       "    <tr>\n",
       "      <th>0</th>\n",
       "      <td>California</td>\n",
       "      <td>74911</td>\n",
       "      <td>CA</td>\n",
       "    </tr>\n",
       "    <tr>\n",
       "      <th>1</th>\n",
       "      <td>Texas</td>\n",
       "      <td>74217</td>\n",
       "      <td>TX</td>\n",
       "    </tr>\n",
       "    <tr>\n",
       "      <th>2</th>\n",
       "      <td>Florida</td>\n",
       "      <td>61789</td>\n",
       "      <td>FL</td>\n",
       "    </tr>\n",
       "    <tr>\n",
       "      <th>3</th>\n",
       "      <td>New York</td>\n",
       "      <td>57816</td>\n",
       "      <td>NY</td>\n",
       "    </tr>\n",
       "    <tr>\n",
       "      <th>4</th>\n",
       "      <td>Illinois</td>\n",
       "      <td>29053</td>\n",
       "      <td>IL</td>\n",
       "    </tr>\n",
       "  </tbody>\n",
       "</table>\n",
       "</div>"
      ],
      "text/plain": [
       "  Province_State  Deaths State_Abb\n",
       "0     California   74911        CA\n",
       "1          Texas   74217        TX\n",
       "2        Florida   61789        FL\n",
       "3       New York   57816        NY\n",
       "4       Illinois   29053        IL"
      ]
     },
     "execution_count": 41,
     "metadata": {},
     "output_type": "execute_result"
    }
   ],
   "source": [
    "df['State_Abb'] = df.Province_State.map(code)\n",
    "df.head()"
   ]
  },
  {
   "cell_type": "code",
   "execution_count": 42,
   "id": "c13c0af6",
   "metadata": {},
   "outputs": [],
   "source": [
    "df = df[~df['State_Abb'].isnull()]"
   ]
  },
  {
   "cell_type": "code",
   "execution_count": 43,
   "id": "d88dc8a3",
   "metadata": {},
   "outputs": [
    {
     "name": "stdout",
     "output_type": "stream",
     "text": [
      "Requirement already satisfied: plotly in c:\\python\\lib\\site-packages (5.4.0)\n",
      "Requirement already satisfied: six in c:\\python\\lib\\site-packages (from plotly) (1.16.0)\n",
      "Requirement already satisfied: tenacity>=6.2.0 in c:\\python\\lib\\site-packages (from plotly) (8.0.1)\n"
     ]
    }
   ],
   "source": [
    "!pip install plotly\n",
    "import plotly.express as px"
   ]
  },
  {
   "cell_type": "code",
   "execution_count": 44,
   "id": "a3e34e7f",
   "metadata": {},
   "outputs": [],
   "source": [
    "fig = px.choropleth(df, locations='State_Abb', color='Deaths', hover_name='Province_State', locationmode='USA-states', scope='usa')"
   ]
  },
  {
   "cell_type": "code",
   "execution_count": 45,
   "id": "c65fbf54",
   "metadata": {},
   "outputs": [
    {
     "data": {
      "application/vnd.plotly.v1+json": {
       "config": {
        "plotlyServerURL": "https://plot.ly"
       },
       "data": [
        {
         "coloraxis": "coloraxis",
         "geo": "geo",
         "hovertemplate": "<b>%{hovertext}</b><br><br>State_Abb=%{location}<br>Deaths=%{z}<extra></extra>",
         "hovertext": [
          "California",
          "Texas",
          "Florida",
          "New York",
          "Illinois",
          "Pennsylvania",
          "Ohio",
          "Georgia",
          "North Carolina",
          "Michigan",
          "Tennessee",
          "Arizona",
          "New Jersey",
          "Indiana",
          "Wisconsin",
          "Virginia",
          "Massachusetts",
          "Minnesota",
          "Missouri",
          "South Carolina",
          "Alabama",
          "Colorado",
          "Kentucky",
          "Washington",
          "Louisiana",
          "Oklahoma",
          "Utah",
          "Maryland",
          "Iowa",
          "Arkansas",
          "Mississippi",
          "Kansas",
          "Nevada",
          "Connecticut",
          "Oregon",
          "New Mexico",
          "Nebraska",
          "Idaho",
          "West Virginia",
          "Rhode Island",
          "Montana",
          "South Dakota",
          "New Hampshire",
          "North Dakota",
          "Delaware",
          "Alaska",
          "Maine",
          "Wyoming",
          "Hawaii",
          "District of Columbia",
          "Vermont"
         ],
         "locationmode": "USA-states",
         "locations": [
          "CA",
          "TX",
          "FL",
          "NY",
          "IL",
          "PA",
          "OH",
          "GA",
          "NC",
          "MI",
          "TN",
          "AZ",
          "NJ",
          "IN",
          "WI",
          "VA",
          "MA",
          "MN",
          "MO",
          "SC",
          "AL",
          "CO",
          "KY",
          "WA",
          "LA",
          "OK",
          "UT",
          "MD",
          "IA",
          "AR",
          "MS",
          "KS",
          "NV",
          "CT",
          "OR",
          "NM",
          "NE",
          "ID",
          "WV",
          "RI",
          "MT",
          "SD",
          "NH",
          "ND",
          "DE",
          "AK",
          "ME",
          "WY",
          "HI",
          "DC",
          "VT"
         ],
         "name": "",
         "type": "choropleth",
         "z": [
          74911,
          74217,
          61789,
          57816,
          29053,
          33962,
          26851,
          30691,
          18860,
          26239,
          17477,
          22589,
          28465,
          17736,
          10134,
          14771,
          19516,
          9778,
          15566,
          14314,
          16185,
          9380,
          11289,
          9436,
          14837,
          12027,
          3595,
          11255,
          7445,
          8752,
          10299,
          6747,
          8109,
          8925,
          5268,
          5419,
          3180,
          3977,
          4990,
          2948,
          2768,
          2371,
          1733,
          1954,
          2194,
          883,
          1336,
          1428,
          1033,
          1197,
          417
         ]
        }
       ],
       "layout": {
        "coloraxis": {
         "colorbar": {
          "title": {
           "text": "Deaths"
          }
         },
         "colorscale": [
          [
           0,
           "#0d0887"
          ],
          [
           0.1111111111111111,
           "#46039f"
          ],
          [
           0.2222222222222222,
           "#7201a8"
          ],
          [
           0.3333333333333333,
           "#9c179e"
          ],
          [
           0.4444444444444444,
           "#bd3786"
          ],
          [
           0.5555555555555556,
           "#d8576b"
          ],
          [
           0.6666666666666666,
           "#ed7953"
          ],
          [
           0.7777777777777778,
           "#fb9f3a"
          ],
          [
           0.8888888888888888,
           "#fdca26"
          ],
          [
           1,
           "#f0f921"
          ]
         ]
        },
        "geo": {
         "center": {},
         "domain": {
          "x": [
           0,
           1
          ],
          "y": [
           0,
           1
          ]
         },
         "scope": "usa"
        },
        "legend": {
         "tracegroupgap": 0
        },
        "margin": {
         "t": 60
        },
        "template": {
         "data": {
          "bar": [
           {
            "error_x": {
             "color": "#2a3f5f"
            },
            "error_y": {
             "color": "#2a3f5f"
            },
            "marker": {
             "line": {
              "color": "#E5ECF6",
              "width": 0.5
             },
             "pattern": {
              "fillmode": "overlay",
              "size": 10,
              "solidity": 0.2
             }
            },
            "type": "bar"
           }
          ],
          "barpolar": [
           {
            "marker": {
             "line": {
              "color": "#E5ECF6",
              "width": 0.5
             },
             "pattern": {
              "fillmode": "overlay",
              "size": 10,
              "solidity": 0.2
             }
            },
            "type": "barpolar"
           }
          ],
          "carpet": [
           {
            "aaxis": {
             "endlinecolor": "#2a3f5f",
             "gridcolor": "white",
             "linecolor": "white",
             "minorgridcolor": "white",
             "startlinecolor": "#2a3f5f"
            },
            "baxis": {
             "endlinecolor": "#2a3f5f",
             "gridcolor": "white",
             "linecolor": "white",
             "minorgridcolor": "white",
             "startlinecolor": "#2a3f5f"
            },
            "type": "carpet"
           }
          ],
          "choropleth": [
           {
            "colorbar": {
             "outlinewidth": 0,
             "ticks": ""
            },
            "type": "choropleth"
           }
          ],
          "contour": [
           {
            "colorbar": {
             "outlinewidth": 0,
             "ticks": ""
            },
            "colorscale": [
             [
              0,
              "#0d0887"
             ],
             [
              0.1111111111111111,
              "#46039f"
             ],
             [
              0.2222222222222222,
              "#7201a8"
             ],
             [
              0.3333333333333333,
              "#9c179e"
             ],
             [
              0.4444444444444444,
              "#bd3786"
             ],
             [
              0.5555555555555556,
              "#d8576b"
             ],
             [
              0.6666666666666666,
              "#ed7953"
             ],
             [
              0.7777777777777778,
              "#fb9f3a"
             ],
             [
              0.8888888888888888,
              "#fdca26"
             ],
             [
              1,
              "#f0f921"
             ]
            ],
            "type": "contour"
           }
          ],
          "contourcarpet": [
           {
            "colorbar": {
             "outlinewidth": 0,
             "ticks": ""
            },
            "type": "contourcarpet"
           }
          ],
          "heatmap": [
           {
            "colorbar": {
             "outlinewidth": 0,
             "ticks": ""
            },
            "colorscale": [
             [
              0,
              "#0d0887"
             ],
             [
              0.1111111111111111,
              "#46039f"
             ],
             [
              0.2222222222222222,
              "#7201a8"
             ],
             [
              0.3333333333333333,
              "#9c179e"
             ],
             [
              0.4444444444444444,
              "#bd3786"
             ],
             [
              0.5555555555555556,
              "#d8576b"
             ],
             [
              0.6666666666666666,
              "#ed7953"
             ],
             [
              0.7777777777777778,
              "#fb9f3a"
             ],
             [
              0.8888888888888888,
              "#fdca26"
             ],
             [
              1,
              "#f0f921"
             ]
            ],
            "type": "heatmap"
           }
          ],
          "heatmapgl": [
           {
            "colorbar": {
             "outlinewidth": 0,
             "ticks": ""
            },
            "colorscale": [
             [
              0,
              "#0d0887"
             ],
             [
              0.1111111111111111,
              "#46039f"
             ],
             [
              0.2222222222222222,
              "#7201a8"
             ],
             [
              0.3333333333333333,
              "#9c179e"
             ],
             [
              0.4444444444444444,
              "#bd3786"
             ],
             [
              0.5555555555555556,
              "#d8576b"
             ],
             [
              0.6666666666666666,
              "#ed7953"
             ],
             [
              0.7777777777777778,
              "#fb9f3a"
             ],
             [
              0.8888888888888888,
              "#fdca26"
             ],
             [
              1,
              "#f0f921"
             ]
            ],
            "type": "heatmapgl"
           }
          ],
          "histogram": [
           {
            "marker": {
             "pattern": {
              "fillmode": "overlay",
              "size": 10,
              "solidity": 0.2
             }
            },
            "type": "histogram"
           }
          ],
          "histogram2d": [
           {
            "colorbar": {
             "outlinewidth": 0,
             "ticks": ""
            },
            "colorscale": [
             [
              0,
              "#0d0887"
             ],
             [
              0.1111111111111111,
              "#46039f"
             ],
             [
              0.2222222222222222,
              "#7201a8"
             ],
             [
              0.3333333333333333,
              "#9c179e"
             ],
             [
              0.4444444444444444,
              "#bd3786"
             ],
             [
              0.5555555555555556,
              "#d8576b"
             ],
             [
              0.6666666666666666,
              "#ed7953"
             ],
             [
              0.7777777777777778,
              "#fb9f3a"
             ],
             [
              0.8888888888888888,
              "#fdca26"
             ],
             [
              1,
              "#f0f921"
             ]
            ],
            "type": "histogram2d"
           }
          ],
          "histogram2dcontour": [
           {
            "colorbar": {
             "outlinewidth": 0,
             "ticks": ""
            },
            "colorscale": [
             [
              0,
              "#0d0887"
             ],
             [
              0.1111111111111111,
              "#46039f"
             ],
             [
              0.2222222222222222,
              "#7201a8"
             ],
             [
              0.3333333333333333,
              "#9c179e"
             ],
             [
              0.4444444444444444,
              "#bd3786"
             ],
             [
              0.5555555555555556,
              "#d8576b"
             ],
             [
              0.6666666666666666,
              "#ed7953"
             ],
             [
              0.7777777777777778,
              "#fb9f3a"
             ],
             [
              0.8888888888888888,
              "#fdca26"
             ],
             [
              1,
              "#f0f921"
             ]
            ],
            "type": "histogram2dcontour"
           }
          ],
          "mesh3d": [
           {
            "colorbar": {
             "outlinewidth": 0,
             "ticks": ""
            },
            "type": "mesh3d"
           }
          ],
          "parcoords": [
           {
            "line": {
             "colorbar": {
              "outlinewidth": 0,
              "ticks": ""
             }
            },
            "type": "parcoords"
           }
          ],
          "pie": [
           {
            "automargin": true,
            "type": "pie"
           }
          ],
          "scatter": [
           {
            "marker": {
             "colorbar": {
              "outlinewidth": 0,
              "ticks": ""
             }
            },
            "type": "scatter"
           }
          ],
          "scatter3d": [
           {
            "line": {
             "colorbar": {
              "outlinewidth": 0,
              "ticks": ""
             }
            },
            "marker": {
             "colorbar": {
              "outlinewidth": 0,
              "ticks": ""
             }
            },
            "type": "scatter3d"
           }
          ],
          "scattercarpet": [
           {
            "marker": {
             "colorbar": {
              "outlinewidth": 0,
              "ticks": ""
             }
            },
            "type": "scattercarpet"
           }
          ],
          "scattergeo": [
           {
            "marker": {
             "colorbar": {
              "outlinewidth": 0,
              "ticks": ""
             }
            },
            "type": "scattergeo"
           }
          ],
          "scattergl": [
           {
            "marker": {
             "colorbar": {
              "outlinewidth": 0,
              "ticks": ""
             }
            },
            "type": "scattergl"
           }
          ],
          "scattermapbox": [
           {
            "marker": {
             "colorbar": {
              "outlinewidth": 0,
              "ticks": ""
             }
            },
            "type": "scattermapbox"
           }
          ],
          "scatterpolar": [
           {
            "marker": {
             "colorbar": {
              "outlinewidth": 0,
              "ticks": ""
             }
            },
            "type": "scatterpolar"
           }
          ],
          "scatterpolargl": [
           {
            "marker": {
             "colorbar": {
              "outlinewidth": 0,
              "ticks": ""
             }
            },
            "type": "scatterpolargl"
           }
          ],
          "scatterternary": [
           {
            "marker": {
             "colorbar": {
              "outlinewidth": 0,
              "ticks": ""
             }
            },
            "type": "scatterternary"
           }
          ],
          "surface": [
           {
            "colorbar": {
             "outlinewidth": 0,
             "ticks": ""
            },
            "colorscale": [
             [
              0,
              "#0d0887"
             ],
             [
              0.1111111111111111,
              "#46039f"
             ],
             [
              0.2222222222222222,
              "#7201a8"
             ],
             [
              0.3333333333333333,
              "#9c179e"
             ],
             [
              0.4444444444444444,
              "#bd3786"
             ],
             [
              0.5555555555555556,
              "#d8576b"
             ],
             [
              0.6666666666666666,
              "#ed7953"
             ],
             [
              0.7777777777777778,
              "#fb9f3a"
             ],
             [
              0.8888888888888888,
              "#fdca26"
             ],
             [
              1,
              "#f0f921"
             ]
            ],
            "type": "surface"
           }
          ],
          "table": [
           {
            "cells": {
             "fill": {
              "color": "#EBF0F8"
             },
             "line": {
              "color": "white"
             }
            },
            "header": {
             "fill": {
              "color": "#C8D4E3"
             },
             "line": {
              "color": "white"
             }
            },
            "type": "table"
           }
          ]
         },
         "layout": {
          "annotationdefaults": {
           "arrowcolor": "#2a3f5f",
           "arrowhead": 0,
           "arrowwidth": 1
          },
          "autotypenumbers": "strict",
          "coloraxis": {
           "colorbar": {
            "outlinewidth": 0,
            "ticks": ""
           }
          },
          "colorscale": {
           "diverging": [
            [
             0,
             "#8e0152"
            ],
            [
             0.1,
             "#c51b7d"
            ],
            [
             0.2,
             "#de77ae"
            ],
            [
             0.3,
             "#f1b6da"
            ],
            [
             0.4,
             "#fde0ef"
            ],
            [
             0.5,
             "#f7f7f7"
            ],
            [
             0.6,
             "#e6f5d0"
            ],
            [
             0.7,
             "#b8e186"
            ],
            [
             0.8,
             "#7fbc41"
            ],
            [
             0.9,
             "#4d9221"
            ],
            [
             1,
             "#276419"
            ]
           ],
           "sequential": [
            [
             0,
             "#0d0887"
            ],
            [
             0.1111111111111111,
             "#46039f"
            ],
            [
             0.2222222222222222,
             "#7201a8"
            ],
            [
             0.3333333333333333,
             "#9c179e"
            ],
            [
             0.4444444444444444,
             "#bd3786"
            ],
            [
             0.5555555555555556,
             "#d8576b"
            ],
            [
             0.6666666666666666,
             "#ed7953"
            ],
            [
             0.7777777777777778,
             "#fb9f3a"
            ],
            [
             0.8888888888888888,
             "#fdca26"
            ],
            [
             1,
             "#f0f921"
            ]
           ],
           "sequentialminus": [
            [
             0,
             "#0d0887"
            ],
            [
             0.1111111111111111,
             "#46039f"
            ],
            [
             0.2222222222222222,
             "#7201a8"
            ],
            [
             0.3333333333333333,
             "#9c179e"
            ],
            [
             0.4444444444444444,
             "#bd3786"
            ],
            [
             0.5555555555555556,
             "#d8576b"
            ],
            [
             0.6666666666666666,
             "#ed7953"
            ],
            [
             0.7777777777777778,
             "#fb9f3a"
            ],
            [
             0.8888888888888888,
             "#fdca26"
            ],
            [
             1,
             "#f0f921"
            ]
           ]
          },
          "colorway": [
           "#636efa",
           "#EF553B",
           "#00cc96",
           "#ab63fa",
           "#FFA15A",
           "#19d3f3",
           "#FF6692",
           "#B6E880",
           "#FF97FF",
           "#FECB52"
          ],
          "font": {
           "color": "#2a3f5f"
          },
          "geo": {
           "bgcolor": "white",
           "lakecolor": "white",
           "landcolor": "#E5ECF6",
           "showlakes": true,
           "showland": true,
           "subunitcolor": "white"
          },
          "hoverlabel": {
           "align": "left"
          },
          "hovermode": "closest",
          "mapbox": {
           "style": "light"
          },
          "paper_bgcolor": "white",
          "plot_bgcolor": "#E5ECF6",
          "polar": {
           "angularaxis": {
            "gridcolor": "white",
            "linecolor": "white",
            "ticks": ""
           },
           "bgcolor": "#E5ECF6",
           "radialaxis": {
            "gridcolor": "white",
            "linecolor": "white",
            "ticks": ""
           }
          },
          "scene": {
           "xaxis": {
            "backgroundcolor": "#E5ECF6",
            "gridcolor": "white",
            "gridwidth": 2,
            "linecolor": "white",
            "showbackground": true,
            "ticks": "",
            "zerolinecolor": "white"
           },
           "yaxis": {
            "backgroundcolor": "#E5ECF6",
            "gridcolor": "white",
            "gridwidth": 2,
            "linecolor": "white",
            "showbackground": true,
            "ticks": "",
            "zerolinecolor": "white"
           },
           "zaxis": {
            "backgroundcolor": "#E5ECF6",
            "gridcolor": "white",
            "gridwidth": 2,
            "linecolor": "white",
            "showbackground": true,
            "ticks": "",
            "zerolinecolor": "white"
           }
          },
          "shapedefaults": {
           "line": {
            "color": "#2a3f5f"
           }
          },
          "ternary": {
           "aaxis": {
            "gridcolor": "white",
            "linecolor": "white",
            "ticks": ""
           },
           "baxis": {
            "gridcolor": "white",
            "linecolor": "white",
            "ticks": ""
           },
           "bgcolor": "#E5ECF6",
           "caxis": {
            "gridcolor": "white",
            "linecolor": "white",
            "ticks": ""
           }
          },
          "title": {
           "x": 0.05
          },
          "xaxis": {
           "automargin": true,
           "gridcolor": "white",
           "linecolor": "white",
           "ticks": "",
           "title": {
            "standoff": 15
           },
           "zerolinecolor": "white",
           "zerolinewidth": 2
          },
          "yaxis": {
           "automargin": true,
           "gridcolor": "white",
           "linecolor": "white",
           "ticks": "",
           "title": {
            "standoff": 15
           },
           "zerolinecolor": "white",
           "zerolinewidth": 2
          }
         }
        }
       }
      },
      "text/html": [
       "<div>                            <div id=\"a8cdde3e-2d09-4f6e-a098-ba419beb555d\" class=\"plotly-graph-div\" style=\"height:525px; width:100%;\"></div>            <script type=\"text/javascript\">                require([\"plotly\"], function(Plotly) {                    window.PLOTLYENV=window.PLOTLYENV || {};                                    if (document.getElementById(\"a8cdde3e-2d09-4f6e-a098-ba419beb555d\")) {                    Plotly.newPlot(                        \"a8cdde3e-2d09-4f6e-a098-ba419beb555d\",                        [{\"coloraxis\":\"coloraxis\",\"geo\":\"geo\",\"hovertemplate\":\"<b>%{hovertext}</b><br><br>State_Abb=%{location}<br>Deaths=%{z}<extra></extra>\",\"hovertext\":[\"California\",\"Texas\",\"Florida\",\"New York\",\"Illinois\",\"Pennsylvania\",\"Ohio\",\"Georgia\",\"North Carolina\",\"Michigan\",\"Tennessee\",\"Arizona\",\"New Jersey\",\"Indiana\",\"Wisconsin\",\"Virginia\",\"Massachusetts\",\"Minnesota\",\"Missouri\",\"South Carolina\",\"Alabama\",\"Colorado\",\"Kentucky\",\"Washington\",\"Louisiana\",\"Oklahoma\",\"Utah\",\"Maryland\",\"Iowa\",\"Arkansas\",\"Mississippi\",\"Kansas\",\"Nevada\",\"Connecticut\",\"Oregon\",\"New Mexico\",\"Nebraska\",\"Idaho\",\"West Virginia\",\"Rhode Island\",\"Montana\",\"South Dakota\",\"New Hampshire\",\"North Dakota\",\"Delaware\",\"Alaska\",\"Maine\",\"Wyoming\",\"Hawaii\",\"District of Columbia\",\"Vermont\"],\"locationmode\":\"USA-states\",\"locations\":[\"CA\",\"TX\",\"FL\",\"NY\",\"IL\",\"PA\",\"OH\",\"GA\",\"NC\",\"MI\",\"TN\",\"AZ\",\"NJ\",\"IN\",\"WI\",\"VA\",\"MA\",\"MN\",\"MO\",\"SC\",\"AL\",\"CO\",\"KY\",\"WA\",\"LA\",\"OK\",\"UT\",\"MD\",\"IA\",\"AR\",\"MS\",\"KS\",\"NV\",\"CT\",\"OR\",\"NM\",\"NE\",\"ID\",\"WV\",\"RI\",\"MT\",\"SD\",\"NH\",\"ND\",\"DE\",\"AK\",\"ME\",\"WY\",\"HI\",\"DC\",\"VT\"],\"name\":\"\",\"z\":[74911,74217,61789,57816,29053,33962,26851,30691,18860,26239,17477,22589,28465,17736,10134,14771,19516,9778,15566,14314,16185,9380,11289,9436,14837,12027,3595,11255,7445,8752,10299,6747,8109,8925,5268,5419,3180,3977,4990,2948,2768,2371,1733,1954,2194,883,1336,1428,1033,1197,417],\"type\":\"choropleth\"}],                        {\"template\":{\"data\":{\"bar\":[{\"error_x\":{\"color\":\"#2a3f5f\"},\"error_y\":{\"color\":\"#2a3f5f\"},\"marker\":{\"line\":{\"color\":\"#E5ECF6\",\"width\":0.5},\"pattern\":{\"fillmode\":\"overlay\",\"size\":10,\"solidity\":0.2}},\"type\":\"bar\"}],\"barpolar\":[{\"marker\":{\"line\":{\"color\":\"#E5ECF6\",\"width\":0.5},\"pattern\":{\"fillmode\":\"overlay\",\"size\":10,\"solidity\":0.2}},\"type\":\"barpolar\"}],\"carpet\":[{\"aaxis\":{\"endlinecolor\":\"#2a3f5f\",\"gridcolor\":\"white\",\"linecolor\":\"white\",\"minorgridcolor\":\"white\",\"startlinecolor\":\"#2a3f5f\"},\"baxis\":{\"endlinecolor\":\"#2a3f5f\",\"gridcolor\":\"white\",\"linecolor\":\"white\",\"minorgridcolor\":\"white\",\"startlinecolor\":\"#2a3f5f\"},\"type\":\"carpet\"}],\"choropleth\":[{\"colorbar\":{\"outlinewidth\":0,\"ticks\":\"\"},\"type\":\"choropleth\"}],\"contour\":[{\"colorbar\":{\"outlinewidth\":0,\"ticks\":\"\"},\"colorscale\":[[0.0,\"#0d0887\"],[0.1111111111111111,\"#46039f\"],[0.2222222222222222,\"#7201a8\"],[0.3333333333333333,\"#9c179e\"],[0.4444444444444444,\"#bd3786\"],[0.5555555555555556,\"#d8576b\"],[0.6666666666666666,\"#ed7953\"],[0.7777777777777778,\"#fb9f3a\"],[0.8888888888888888,\"#fdca26\"],[1.0,\"#f0f921\"]],\"type\":\"contour\"}],\"contourcarpet\":[{\"colorbar\":{\"outlinewidth\":0,\"ticks\":\"\"},\"type\":\"contourcarpet\"}],\"heatmap\":[{\"colorbar\":{\"outlinewidth\":0,\"ticks\":\"\"},\"colorscale\":[[0.0,\"#0d0887\"],[0.1111111111111111,\"#46039f\"],[0.2222222222222222,\"#7201a8\"],[0.3333333333333333,\"#9c179e\"],[0.4444444444444444,\"#bd3786\"],[0.5555555555555556,\"#d8576b\"],[0.6666666666666666,\"#ed7953\"],[0.7777777777777778,\"#fb9f3a\"],[0.8888888888888888,\"#fdca26\"],[1.0,\"#f0f921\"]],\"type\":\"heatmap\"}],\"heatmapgl\":[{\"colorbar\":{\"outlinewidth\":0,\"ticks\":\"\"},\"colorscale\":[[0.0,\"#0d0887\"],[0.1111111111111111,\"#46039f\"],[0.2222222222222222,\"#7201a8\"],[0.3333333333333333,\"#9c179e\"],[0.4444444444444444,\"#bd3786\"],[0.5555555555555556,\"#d8576b\"],[0.6666666666666666,\"#ed7953\"],[0.7777777777777778,\"#fb9f3a\"],[0.8888888888888888,\"#fdca26\"],[1.0,\"#f0f921\"]],\"type\":\"heatmapgl\"}],\"histogram\":[{\"marker\":{\"pattern\":{\"fillmode\":\"overlay\",\"size\":10,\"solidity\":0.2}},\"type\":\"histogram\"}],\"histogram2d\":[{\"colorbar\":{\"outlinewidth\":0,\"ticks\":\"\"},\"colorscale\":[[0.0,\"#0d0887\"],[0.1111111111111111,\"#46039f\"],[0.2222222222222222,\"#7201a8\"],[0.3333333333333333,\"#9c179e\"],[0.4444444444444444,\"#bd3786\"],[0.5555555555555556,\"#d8576b\"],[0.6666666666666666,\"#ed7953\"],[0.7777777777777778,\"#fb9f3a\"],[0.8888888888888888,\"#fdca26\"],[1.0,\"#f0f921\"]],\"type\":\"histogram2d\"}],\"histogram2dcontour\":[{\"colorbar\":{\"outlinewidth\":0,\"ticks\":\"\"},\"colorscale\":[[0.0,\"#0d0887\"],[0.1111111111111111,\"#46039f\"],[0.2222222222222222,\"#7201a8\"],[0.3333333333333333,\"#9c179e\"],[0.4444444444444444,\"#bd3786\"],[0.5555555555555556,\"#d8576b\"],[0.6666666666666666,\"#ed7953\"],[0.7777777777777778,\"#fb9f3a\"],[0.8888888888888888,\"#fdca26\"],[1.0,\"#f0f921\"]],\"type\":\"histogram2dcontour\"}],\"mesh3d\":[{\"colorbar\":{\"outlinewidth\":0,\"ticks\":\"\"},\"type\":\"mesh3d\"}],\"parcoords\":[{\"line\":{\"colorbar\":{\"outlinewidth\":0,\"ticks\":\"\"}},\"type\":\"parcoords\"}],\"pie\":[{\"automargin\":true,\"type\":\"pie\"}],\"scatter\":[{\"marker\":{\"colorbar\":{\"outlinewidth\":0,\"ticks\":\"\"}},\"type\":\"scatter\"}],\"scatter3d\":[{\"line\":{\"colorbar\":{\"outlinewidth\":0,\"ticks\":\"\"}},\"marker\":{\"colorbar\":{\"outlinewidth\":0,\"ticks\":\"\"}},\"type\":\"scatter3d\"}],\"scattercarpet\":[{\"marker\":{\"colorbar\":{\"outlinewidth\":0,\"ticks\":\"\"}},\"type\":\"scattercarpet\"}],\"scattergeo\":[{\"marker\":{\"colorbar\":{\"outlinewidth\":0,\"ticks\":\"\"}},\"type\":\"scattergeo\"}],\"scattergl\":[{\"marker\":{\"colorbar\":{\"outlinewidth\":0,\"ticks\":\"\"}},\"type\":\"scattergl\"}],\"scattermapbox\":[{\"marker\":{\"colorbar\":{\"outlinewidth\":0,\"ticks\":\"\"}},\"type\":\"scattermapbox\"}],\"scatterpolar\":[{\"marker\":{\"colorbar\":{\"outlinewidth\":0,\"ticks\":\"\"}},\"type\":\"scatterpolar\"}],\"scatterpolargl\":[{\"marker\":{\"colorbar\":{\"outlinewidth\":0,\"ticks\":\"\"}},\"type\":\"scatterpolargl\"}],\"scatterternary\":[{\"marker\":{\"colorbar\":{\"outlinewidth\":0,\"ticks\":\"\"}},\"type\":\"scatterternary\"}],\"surface\":[{\"colorbar\":{\"outlinewidth\":0,\"ticks\":\"\"},\"colorscale\":[[0.0,\"#0d0887\"],[0.1111111111111111,\"#46039f\"],[0.2222222222222222,\"#7201a8\"],[0.3333333333333333,\"#9c179e\"],[0.4444444444444444,\"#bd3786\"],[0.5555555555555556,\"#d8576b\"],[0.6666666666666666,\"#ed7953\"],[0.7777777777777778,\"#fb9f3a\"],[0.8888888888888888,\"#fdca26\"],[1.0,\"#f0f921\"]],\"type\":\"surface\"}],\"table\":[{\"cells\":{\"fill\":{\"color\":\"#EBF0F8\"},\"line\":{\"color\":\"white\"}},\"header\":{\"fill\":{\"color\":\"#C8D4E3\"},\"line\":{\"color\":\"white\"}},\"type\":\"table\"}]},\"layout\":{\"annotationdefaults\":{\"arrowcolor\":\"#2a3f5f\",\"arrowhead\":0,\"arrowwidth\":1},\"autotypenumbers\":\"strict\",\"coloraxis\":{\"colorbar\":{\"outlinewidth\":0,\"ticks\":\"\"}},\"colorscale\":{\"diverging\":[[0,\"#8e0152\"],[0.1,\"#c51b7d\"],[0.2,\"#de77ae\"],[0.3,\"#f1b6da\"],[0.4,\"#fde0ef\"],[0.5,\"#f7f7f7\"],[0.6,\"#e6f5d0\"],[0.7,\"#b8e186\"],[0.8,\"#7fbc41\"],[0.9,\"#4d9221\"],[1,\"#276419\"]],\"sequential\":[[0.0,\"#0d0887\"],[0.1111111111111111,\"#46039f\"],[0.2222222222222222,\"#7201a8\"],[0.3333333333333333,\"#9c179e\"],[0.4444444444444444,\"#bd3786\"],[0.5555555555555556,\"#d8576b\"],[0.6666666666666666,\"#ed7953\"],[0.7777777777777778,\"#fb9f3a\"],[0.8888888888888888,\"#fdca26\"],[1.0,\"#f0f921\"]],\"sequentialminus\":[[0.0,\"#0d0887\"],[0.1111111111111111,\"#46039f\"],[0.2222222222222222,\"#7201a8\"],[0.3333333333333333,\"#9c179e\"],[0.4444444444444444,\"#bd3786\"],[0.5555555555555556,\"#d8576b\"],[0.6666666666666666,\"#ed7953\"],[0.7777777777777778,\"#fb9f3a\"],[0.8888888888888888,\"#fdca26\"],[1.0,\"#f0f921\"]]},\"colorway\":[\"#636efa\",\"#EF553B\",\"#00cc96\",\"#ab63fa\",\"#FFA15A\",\"#19d3f3\",\"#FF6692\",\"#B6E880\",\"#FF97FF\",\"#FECB52\"],\"font\":{\"color\":\"#2a3f5f\"},\"geo\":{\"bgcolor\":\"white\",\"lakecolor\":\"white\",\"landcolor\":\"#E5ECF6\",\"showlakes\":true,\"showland\":true,\"subunitcolor\":\"white\"},\"hoverlabel\":{\"align\":\"left\"},\"hovermode\":\"closest\",\"mapbox\":{\"style\":\"light\"},\"paper_bgcolor\":\"white\",\"plot_bgcolor\":\"#E5ECF6\",\"polar\":{\"angularaxis\":{\"gridcolor\":\"white\",\"linecolor\":\"white\",\"ticks\":\"\"},\"bgcolor\":\"#E5ECF6\",\"radialaxis\":{\"gridcolor\":\"white\",\"linecolor\":\"white\",\"ticks\":\"\"}},\"scene\":{\"xaxis\":{\"backgroundcolor\":\"#E5ECF6\",\"gridcolor\":\"white\",\"gridwidth\":2,\"linecolor\":\"white\",\"showbackground\":true,\"ticks\":\"\",\"zerolinecolor\":\"white\"},\"yaxis\":{\"backgroundcolor\":\"#E5ECF6\",\"gridcolor\":\"white\",\"gridwidth\":2,\"linecolor\":\"white\",\"showbackground\":true,\"ticks\":\"\",\"zerolinecolor\":\"white\"},\"zaxis\":{\"backgroundcolor\":\"#E5ECF6\",\"gridcolor\":\"white\",\"gridwidth\":2,\"linecolor\":\"white\",\"showbackground\":true,\"ticks\":\"\",\"zerolinecolor\":\"white\"}},\"shapedefaults\":{\"line\":{\"color\":\"#2a3f5f\"}},\"ternary\":{\"aaxis\":{\"gridcolor\":\"white\",\"linecolor\":\"white\",\"ticks\":\"\"},\"baxis\":{\"gridcolor\":\"white\",\"linecolor\":\"white\",\"ticks\":\"\"},\"bgcolor\":\"#E5ECF6\",\"caxis\":{\"gridcolor\":\"white\",\"linecolor\":\"white\",\"ticks\":\"\"}},\"title\":{\"x\":0.05},\"xaxis\":{\"automargin\":true,\"gridcolor\":\"white\",\"linecolor\":\"white\",\"ticks\":\"\",\"title\":{\"standoff\":15},\"zerolinecolor\":\"white\",\"zerolinewidth\":2},\"yaxis\":{\"automargin\":true,\"gridcolor\":\"white\",\"linecolor\":\"white\",\"ticks\":\"\",\"title\":{\"standoff\":15},\"zerolinecolor\":\"white\",\"zerolinewidth\":2}}},\"geo\":{\"domain\":{\"x\":[0.0,1.0],\"y\":[0.0,1.0]},\"center\":{},\"scope\":\"usa\"},\"coloraxis\":{\"colorbar\":{\"title\":{\"text\":\"Deaths\"}},\"colorscale\":[[0.0,\"#0d0887\"],[0.1111111111111111,\"#46039f\"],[0.2222222222222222,\"#7201a8\"],[0.3333333333333333,\"#9c179e\"],[0.4444444444444444,\"#bd3786\"],[0.5555555555555556,\"#d8576b\"],[0.6666666666666666,\"#ed7953\"],[0.7777777777777778,\"#fb9f3a\"],[0.8888888888888888,\"#fdca26\"],[1.0,\"#f0f921\"]]},\"legend\":{\"tracegroupgap\":0},\"margin\":{\"t\":60}},                        {\"responsive\": true}                    ).then(function(){\n",
       "                            \n",
       "var gd = document.getElementById('a8cdde3e-2d09-4f6e-a098-ba419beb555d');\n",
       "var x = new MutationObserver(function (mutations, observer) {{\n",
       "        var display = window.getComputedStyle(gd).display;\n",
       "        if (!display || display === 'none') {{\n",
       "            console.log([gd, 'removed!']);\n",
       "            Plotly.purge(gd);\n",
       "            observer.disconnect();\n",
       "        }}\n",
       "}});\n",
       "\n",
       "// Listen for the removal of the full notebook cells\n",
       "var notebookContainer = gd.closest('#notebook-container');\n",
       "if (notebookContainer) {{\n",
       "    x.observe(notebookContainer, {childList: true});\n",
       "}}\n",
       "\n",
       "// Listen for the clearing of the current output cell\n",
       "var outputEl = gd.closest('.output');\n",
       "if (outputEl) {{\n",
       "    x.observe(outputEl, {childList: true});\n",
       "}}\n",
       "\n",
       "                        })                };                });            </script>        </div>"
      ]
     },
     "metadata": {},
     "output_type": "display_data"
    }
   ],
   "source": [
    "fig.show()"
   ]
  }
 ],
 "metadata": {
  "kernelspec": {
   "display_name": "Python 3",
   "language": "python",
   "name": "python3"
  },
  "language_info": {
   "codemirror_mode": {
    "name": "ipython",
    "version": 3
   },
   "file_extension": ".py",
   "mimetype": "text/x-python",
   "name": "python",
   "nbconvert_exporter": "python",
   "pygments_lexer": "ipython3",
   "version": "3.7.9"
  },
  "varInspector": {
   "cols": {
    "lenName": 16,
    "lenType": 16,
    "lenVar": 40
   },
   "kernels_config": {
    "python": {
     "delete_cmd_postfix": "",
     "delete_cmd_prefix": "del ",
     "library": "var_list.py",
     "varRefreshCmd": "print(var_dic_list())"
    },
    "r": {
     "delete_cmd_postfix": ") ",
     "delete_cmd_prefix": "rm(",
     "library": "var_list.r",
     "varRefreshCmd": "cat(var_dic_list()) "
    }
   },
   "types_to_exclude": [
    "module",
    "function",
    "builtin_function_or_method",
    "instance",
    "_Feature"
   ],
   "window_display": false
  }
 },
 "nbformat": 4,
 "nbformat_minor": 5
}
